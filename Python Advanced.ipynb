{
 "cells": [
  {
   "cell_type": "markdown",
   "metadata": {},
   "source": [
    "# Python Advanced\n",
    "\n",
    "*Gyuri*, `EU_edge`"
   ]
  },
  {
   "cell_type": "markdown",
   "metadata": {},
   "source": [
    "## Diamond inheritance problem\n",
    "`Cls.__mro__` - method resolution order"
   ]
  },
  {
   "cell_type": "code",
   "execution_count": 1,
   "metadata": {},
   "outputs": [
    {
     "name": "stdout",
     "output_type": "stream",
     "text": [
      "(<class '__main__.D'>, <class '__main__.C'>, <class '__main__.B'>, <class '__main__.A'>, <class 'object'>)\n"
     ]
    }
   ],
   "source": [
    "class A(object): pass\n",
    "class B(A): pass\n",
    "class C(A): pass\n",
    "class D(C, B): pass\n",
    "\n",
    "print(D.__mro__)"
   ]
  },
  {
   "cell_type": "markdown",
   "metadata": {},
   "source": [
    "## Mixins\n",
    "You can add *base classes* runtime"
   ]
  },
  {
   "cell_type": "code",
   "execution_count": 7,
   "metadata": {},
   "outputs": [
    {
     "name": "stdout",
     "output_type": "stream",
     "text": [
      "(<class '__main__.C'>, <class '__main__.A'>, <class 'object'>)\n",
      "(<class '__main__.C'>, <class '__main__.A'>, <class '__main__.B'>, <class 'object'>)\n"
     ]
    }
   ],
   "source": [
    "class A(object): pass\n",
    "class B(object): pass\n",
    "class C(A): pass\n",
    "\n",
    "print(C.__mro__)\n",
    "C.__bases__ += (B,)\n",
    "print(C.__mro__)"
   ]
  },
  {
   "cell_type": "markdown",
   "metadata": {},
   "source": [
    "## Variable scope\n",
    "- No declaration, just use any variable whenever you want\n",
    "- There's `global` but ...\n",
    "- Namespaces are dicts\n",
    "- `module.submodule.variable = 42`\n",
    "- `del` keyword\n",
    "- `__builtins__`, `locals()`, `globals()`"
   ]
  },
  {
   "cell_type": "code",
   "execution_count": 10,
   "metadata": {},
   "outputs": [
    {
     "name": "stdout",
     "output_type": "stream",
     "text": [
      "1 2 [1] apple\n",
      "scopetest locals:  {'imut': 'applepen', 'mut': [1, 2], 'lvar': 12}\n",
      "11 2 [1, 2] apple\n"
     ]
    }
   ],
   "source": [
    "def scopetest(mut, imut):\n",
    "    global gvar\n",
    "    gvar = 11\n",
    "    lvar = 12\n",
    "    mut += [2]\n",
    "    imut += \"pen\"\n",
    "    print('scopetest locals: ', locals())\n",
    "\n",
    "gvar, lvar, amut, aimut = 1, 2, [1], \"apple\"\n",
    "print(gvar, lvar, amut, aimut)\n",
    "scopetest(amut, aimut)\n",
    "print(gvar, lvar, amut, aimut)"
   ]
  },
  {
   "cell_type": "markdown",
   "metadata": {},
   "source": [
    "## Iterators\n",
    "- `container.__iter__()` -> get the iterator\n",
    "- `iterator.__iter__()` -> get the iterator (self)\n",
    "- `iterator.__next__()` -> next item, or StopIteration exception"
   ]
  },
  {
   "cell_type": "code",
   "execution_count": 2,
   "metadata": {},
   "outputs": [
    {
     "name": "stdout",
     "output_type": "stream",
     "text": [
      "1\n",
      "2\n"
     ]
    },
    {
     "ename": "StopIteration",
     "evalue": "",
     "output_type": "error",
     "traceback": [
      "\u001b[0;31m---------------------------------------------------------------------------\u001b[0m",
      "\u001b[0;31mStopIteration\u001b[0m                             Traceback (most recent call last)",
      "\u001b[0;32m<ipython-input-2-7fd25a6fe25b>\u001b[0m in \u001b[0;36m<module>\u001b[0;34m()\u001b[0m\n\u001b[1;32m      3\u001b[0m \u001b[0mprint\u001b[0m\u001b[0;34m(\u001b[0m\u001b[0mnext\u001b[0m\u001b[0;34m(\u001b[0m\u001b[0mi\u001b[0m\u001b[0;34m)\u001b[0m\u001b[0;34m)\u001b[0m \u001b[0;31m# calls i.__next__()\u001b[0m\u001b[0;34m\u001b[0m\u001b[0m\n\u001b[1;32m      4\u001b[0m \u001b[0mprint\u001b[0m\u001b[0;34m(\u001b[0m\u001b[0mnext\u001b[0m\u001b[0;34m(\u001b[0m\u001b[0mi\u001b[0m\u001b[0;34m)\u001b[0m\u001b[0;34m)\u001b[0m\u001b[0;34m\u001b[0m\u001b[0m\n\u001b[0;32m----> 5\u001b[0;31m \u001b[0mprint\u001b[0m\u001b[0;34m(\u001b[0m\u001b[0mnext\u001b[0m\u001b[0;34m(\u001b[0m\u001b[0mi\u001b[0m\u001b[0;34m)\u001b[0m\u001b[0;34m)\u001b[0m\u001b[0;34m\u001b[0m\u001b[0m\n\u001b[0m\u001b[1;32m      6\u001b[0m \u001b[0;34m\u001b[0m\u001b[0m\n\u001b[1;32m      7\u001b[0m \u001b[0;32mfor\u001b[0m \u001b[0mx\u001b[0m \u001b[0;32min\u001b[0m \u001b[0ma\u001b[0m\u001b[0;34m:\u001b[0m\u001b[0;34m\u001b[0m\u001b[0m\n",
      "\u001b[0;31mStopIteration\u001b[0m: "
     ]
    }
   ],
   "source": [
    "a = [1,2]\n",
    "i = iter(a) # calls a.__iter__()\n",
    "print(next(i)) # calls i.__next__()\n",
    "print(next(i))\n",
    "print(next(i))\n",
    "\n",
    "for x in a:\n",
    "    print(x)"
   ]
  },
  {
   "cell_type": "markdown",
   "metadata": {},
   "source": [
    "## Comprehensions\n",
    "The *functional way* of list/dict creation"
   ]
  },
  {
   "cell_type": "code",
   "execution_count": 23,
   "metadata": {},
   "outputs": [
    {
     "name": "stdout",
     "output_type": "stream",
     "text": [
      "[2, 2, 4, 6, 10, 16, 26, 42, 68, 110, 178]\n",
      "{'3^2': 9, '2^2': 4, '0^2': 0, '1^2': 1}\n"
     ]
    }
   ],
   "source": [
    "print([x*2 for x in f100])\n",
    "print({'%d^2' % x: x**2 for x in range(4)})"
   ]
  },
  {
   "cell_type": "markdown",
   "metadata": {},
   "source": [
    "## Itertools\n",
    "Useful toolset for iterations\n",
    "\n",
    "*Some parts have been moved to the standard library meanwhile, like **zip** *"
   ]
  },
  {
   "cell_type": "code",
   "execution_count": 33,
   "metadata": {},
   "outputs": [
    {
     "name": "stdout",
     "output_type": "stream",
     "text": [
      "fib(0) = 1\n",
      "fib(1) = 1\n",
      "fib(2) = 2\n",
      "fib(3) = 3\n",
      "fib(4) = 5\n"
     ]
    }
   ],
   "source": [
    "for x,y in zip(range(5), f100):\n",
    "    print(\"fib(%d) = %d\" % (x, y))"
   ]
  },
  {
   "cell_type": "code",
   "execution_count": 34,
   "metadata": {},
   "outputs": [
    {
     "name": "stdout",
     "output_type": "stream",
     "text": [
      "0 1 2 3 4 5 6 7 8 9 "
     ]
    }
   ],
   "source": [
    "from itertools import chain\n",
    "for x in chain(range(0,5), range(5,10)):\n",
    "    print(x, end=\" \")"
   ]
  },
  {
   "cell_type": "markdown",
   "metadata": {},
   "source": [
    "## Generators, yield\n",
    "Generate the next item only when we need it"
   ]
  },
  {
   "cell_type": "code",
   "execution_count": 14,
   "metadata": {},
   "outputs": [
    {
     "name": "stdout",
     "output_type": "stream",
     "text": [
      "1 1 2 3 5 8 13 21 34 55 89 "
     ]
    }
   ],
   "source": [
    "class Fib:\n",
    "    def __init__(self, limit):\n",
    "        self.limit = limit\n",
    "    def __iter__(self):\n",
    "        p0, p = 0, 1\n",
    "        while p < self.limit:\n",
    "            yield p\n",
    "            p0, p = p, p + p0\n",
    "        raise StopIteration\n",
    "\n",
    "f100 = Fib(100)\n",
    "for x in f100:\n",
    "    print(x, end=\" \")"
   ]
  },
  {
   "cell_type": "code",
   "execution_count": 20,
   "metadata": {},
   "outputs": [
    {
     "name": "stdout",
     "output_type": "stream",
     "text": [
      "1 1 2 3 5 8 <= end\n"
     ]
    }
   ],
   "source": [
    "f10 = Fib(10)\n",
    "i = iter(f10)\n",
    "try:\n",
    "    while 1:\n",
    "        print(next(i), end=\" \")\n",
    "except:\n",
    "    print(\"<= end\")"
   ]
  },
  {
   "cell_type": "markdown",
   "metadata": {},
   "source": [
    "## Coroutines (PEP-342)"
   ]
  },
  {
   "cell_type": "code",
   "execution_count": 39,
   "metadata": {},
   "outputs": [
    {
     "name": "stdout",
     "output_type": "stream",
     "text": [
      "Looking for edge\n",
      "EU_edge\n"
     ]
    }
   ],
   "source": [
    "def grep(pattern):\n",
    "    print(\"Looking for %s\" % pattern)\n",
    "    while True:\n",
    "        line = (yield)\n",
    "        if pattern in line:\n",
    "            print(line)\n",
    "\n",
    "g = grep(\"edge\")\n",
    "next(g) # init\n",
    "g.send(\"nothing sharp here\")\n",
    "g.send(\"EU_edge\")"
   ]
  },
  {
   "cell_type": "markdown",
   "metadata": {},
   "source": [
    "## Operator overloading"
   ]
  },
  {
   "cell_type": "code",
   "execution_count": 43,
   "metadata": {},
   "outputs": [
    {
     "name": "stdout",
     "output_type": "stream",
     "text": [
      "f1 3\n",
      "f2 4\n",
      "f3 9\n"
     ]
    }
   ],
   "source": [
    "class Fun:\n",
    "    def __init__(self, function):\n",
    "        self.function = function\n",
    "    def __call__(self, *args, **kwargs):\n",
    "        return self.function(*args, **kwargs)\n",
    "    def __add__(self, funinst):\n",
    "        def inner(*args, **kwargs):\n",
    "            return funinst(self.function(*args, **kwargs))\n",
    "        return Fun(inner)\n",
    "    \n",
    "f1 = Fun(lambda x,y: x+y)\n",
    "print('f1', f1(1,2))\n",
    "f2 = Fun(lambda x: x*x)\n",
    "print('f2', f2(2))\n",
    "f3 = f1 + f2\n",
    "print('f3', f3(1,2))"
   ]
  },
  {
   "cell_type": "markdown",
   "metadata": {},
   "source": [
    "## `__getattr__`\n",
    "Override attribute access"
   ]
  },
  {
   "cell_type": "code",
   "execution_count": 49,
   "metadata": {},
   "outputs": [
    {
     "name": "stdout",
     "output_type": "stream",
     "text": [
      "o['a'] = 10\n",
      "o.a = 10\n",
      "o.c = None\n",
      "o.c = [1, 2]\n"
     ]
    }
   ],
   "source": [
    "class JSObj(dict):\n",
    "    def __getattr__(self, attr):\n",
    "        return self.get(attr)\n",
    "    def __setattr__(self, attr, value):\n",
    "        self[attr] = value\n",
    "\n",
    "o = JSObj({'a': 10, 'b': 'beka'})\n",
    "print(\"o['a'] =\", o['a'])\n",
    "print(\"o.a =\", o.a)\n",
    "print(\"o.c =\", o.c)\n",
    "o.c = [1,2]\n",
    "print(\"o.c =\", o.c)"
   ]
  },
  {
   "cell_type": "markdown",
   "metadata": {},
   "source": [
    "## `__dict__`\n",
    "*Direct* attribute access\n",
    "\n",
    "`obj.attr = value === obj.__dict__['attr'] = value`"
   ]
  },
  {
   "cell_type": "code",
   "execution_count": 50,
   "metadata": {},
   "outputs": [
    {
     "name": "stdout",
     "output_type": "stream",
     "text": [
      "42\n"
     ]
    }
   ],
   "source": [
    "class Borg:\n",
    "    __shared_state = {}\n",
    "    def __init__(self):\n",
    "        self.__dict__ = self.__shared_state\n",
    "        \n",
    "b1 = Borg()\n",
    "b2 = Borg()\n",
    "b1.answer = 42\n",
    "print(b2.answer)"
   ]
  },
  {
   "cell_type": "markdown",
   "metadata": {},
   "source": [
    "http://docs.python.org/reference/datamodel.html#special-method-names"
   ]
  },
  {
   "cell_type": "markdown",
   "metadata": {},
   "source": [
    "## Nothing is private\n",
    "*Do not do this ever*"
   ]
  },
  {
   "cell_type": "code",
   "execution_count": 52,
   "metadata": {},
   "outputs": [
    {
     "name": "stdout",
     "output_type": "stream",
     "text": [
      "42\n"
     ]
    },
    {
     "ename": "AttributeError",
     "evalue": "'Proxy' object has no attribute 'a'",
     "output_type": "error",
     "traceback": [
      "\u001b[0;31m---------------------------------------------------------------------------\u001b[0m",
      "\u001b[0;31mAttributeError\u001b[0m                            Traceback (most recent call last)",
      "\u001b[0;32m<ipython-input-52-96dc9de7ec45>\u001b[0m in \u001b[0;36m<module>\u001b[0;34m()\u001b[0m\n\u001b[1;32m     11\u001b[0m \u001b[0ma\u001b[0m \u001b[0;34m=\u001b[0m \u001b[0mhide\u001b[0m\u001b[0;34m(\u001b[0m\u001b[0mHideMe\u001b[0m\u001b[0;34m(\u001b[0m\u001b[0;34m)\u001b[0m\u001b[0;34m)\u001b[0m\u001b[0;34m\u001b[0m\u001b[0m\n\u001b[1;32m     12\u001b[0m \u001b[0mprint\u001b[0m\u001b[0;34m(\u001b[0m\u001b[0ma\u001b[0m\u001b[0;34m.\u001b[0m\u001b[0ma\u001b[0m\u001b[0;34m)\u001b[0m\u001b[0;34m\u001b[0m\u001b[0m\n\u001b[0;32m---> 13\u001b[0;31m \u001b[0ma\u001b[0m\u001b[0;34m.\u001b[0m\u001b[0ma\u001b[0m \u001b[0;34m=\u001b[0m \u001b[0;36m43\u001b[0m\u001b[0;34m\u001b[0m\u001b[0m\n\u001b[0m",
      "\u001b[0;31mAttributeError\u001b[0m: 'Proxy' object has no attribute 'a'"
     ]
    }
   ],
   "source": [
    "def hide(o):\n",
    "    class Proxy:\n",
    "        __slots__ = () # only attributes listed in __slots__ can be accessed/defined\n",
    "        def __getattr__(self, name):\n",
    "            return getattr(o, name)\n",
    "    return Proxy()\n",
    "\n",
    "class HideMe:\n",
    "    a = 42\n",
    "    \n",
    "a = hide(HideMe())\n",
    "print(a.a)\n",
    "a.a = 43"
   ]
  },
  {
   "cell_type": "code",
   "execution_count": 58,
   "metadata": {},
   "outputs": [
    {
     "name": "stdout",
     "output_type": "stream",
     "text": [
      "43\n"
     ]
    }
   ],
   "source": [
    "a.__getattr__.__closure__[0].cell_contents.a = 43\n",
    "print(a.a)"
   ]
  },
  {
   "cell_type": "markdown",
   "metadata": {},
   "source": [
    "## Decorators\n",
    "- syntactic sugar\n",
    "- `functool.wraps`\n",
    "- `@classmethond`, `@staticmethod`"
   ]
  },
  {
   "cell_type": "code",
   "execution_count": 61,
   "metadata": {},
   "outputs": [
    {
     "name": "stdout",
     "output_type": "stream",
     "text": [
      "mul called with parameters: (2,); {'b': 3}\n",
      "mul returned: 6\n",
      "6\n"
     ]
    }
   ],
   "source": [
    "from functools import wraps\n",
    "\n",
    "def logger(f):\n",
    "    @wraps(f)\n",
    "    def inner(*args, **kwargs):\n",
    "        print(\"%s called with parameters: %s; %s\" % (f.__name__, args, kwargs))\n",
    "        retval = f(*args, **kwargs)\n",
    "        print(\"%s returned: %s\" % (f.__name__, retval))\n",
    "        \n",
    "        return retval\n",
    "    return inner\n",
    "\n",
    "@logger\n",
    "def mul(a,b):\n",
    "    return a*b\n",
    "# ===> mul = logger(mul)\n",
    "\n",
    "print(mul(2, b = 3))"
   ]
  },
  {
   "cell_type": "markdown",
   "metadata": {},
   "source": [
    "## Descriptors\n",
    "To \"hide\" getter/setter methods\n",
    "\n",
    "- `__get__(self, instance, owner)`\n",
    "- `__set__(self, instance, value)`\n",
    "- `__delete__(self, instance)`"
   ]
  },
  {
   "cell_type": "markdown",
   "metadata": {},
   "source": [
    "### Properties"
   ]
  },
  {
   "cell_type": "code",
   "execution_count": 65,
   "metadata": {},
   "outputs": [
    {
     "name": "stdout",
     "output_type": "stream",
     "text": [
      "14\n",
      "<function PropEx.setA at 0x7f10f0070378>\n"
     ]
    }
   ],
   "source": [
    "class PropEx:\n",
    "    __a = 1\n",
    "    __b = 2\n",
    "    \n",
    "    @property\n",
    "    def c(self):\n",
    "        return self.__a + self.__b\n",
    "    \n",
    "    def getA(self):\n",
    "        return self.__a\n",
    "    def setA(self, value):\n",
    "        self.__a = value\n",
    "    def delA(self):\n",
    "        self.__a = 1\n",
    "        \n",
    "    a = property(getA, setA, delA)\n",
    "    # @property, @prop.setter, @prop.deleter\n",
    "\n",
    "x = PropEx()\n",
    "x.a = 12\n",
    "print(x.c)\n",
    "print(x.__class__.a.fset)"
   ]
  },
  {
   "cell_type": "markdown",
   "metadata": {},
   "source": [
    "### Functions/methods\n",
    "Functions are descriptors with `__get__`"
   ]
  },
  {
   "cell_type": "code",
   "execution_count": 73,
   "metadata": {},
   "outputs": [
    {
     "name": "stdout",
     "output_type": "stream",
     "text": [
      "<bound method A.method of <__main__.A object at 0x7f10f000d208>>\n",
      "<function A.method at 0x7f10f0070158>\n",
      "<function what_is_my_class at 0x7f10f0070510>\n"
     ]
    }
   ],
   "source": [
    "def what_is_my_class(self):\n",
    "    return self.__class__\n",
    "\n",
    "class A:\n",
    "    def method(self):\n",
    "        pass\n",
    "\n",
    "a = A()\n",
    "print(a.method)\n",
    "print(a.__class__.method) # different in Py2\n",
    "print(what_is_my_class)"
   ]
  },
  {
   "cell_type": "code",
   "execution_count": 72,
   "metadata": {},
   "outputs": [
    {
     "name": "stdout",
     "output_type": "stream",
     "text": [
      "<function what_is_my_class at 0x7f10f0070f28>\n"
     ]
    },
    {
     "ename": "TypeError",
     "evalue": "what_is_my_class() missing 1 required positional argument: 'self'",
     "output_type": "error",
     "traceback": [
      "\u001b[0;31m---------------------------------------------------------------------------\u001b[0m",
      "\u001b[0;31mTypeError\u001b[0m                                 Traceback (most recent call last)",
      "\u001b[0;32m<ipython-input-72-6e51485f13d8>\u001b[0m in \u001b[0;36m<module>\u001b[0;34m()\u001b[0m\n\u001b[1;32m      1\u001b[0m \u001b[0ma\u001b[0m\u001b[0;34m.\u001b[0m\u001b[0mwmc\u001b[0m \u001b[0;34m=\u001b[0m \u001b[0mwhat_is_my_class\u001b[0m\u001b[0;34m\u001b[0m\u001b[0m\n\u001b[1;32m      2\u001b[0m \u001b[0mprint\u001b[0m\u001b[0;34m(\u001b[0m\u001b[0ma\u001b[0m\u001b[0;34m.\u001b[0m\u001b[0mwmc\u001b[0m\u001b[0;34m)\u001b[0m\u001b[0;34m\u001b[0m\u001b[0m\n\u001b[0;32m----> 3\u001b[0;31m \u001b[0mprint\u001b[0m\u001b[0;34m(\u001b[0m\u001b[0ma\u001b[0m\u001b[0;34m.\u001b[0m\u001b[0mwmc\u001b[0m\u001b[0;34m(\u001b[0m\u001b[0;34m)\u001b[0m\u001b[0;34m)\u001b[0m\u001b[0;34m\u001b[0m\u001b[0m\n\u001b[0m",
      "\u001b[0;31mTypeError\u001b[0m: what_is_my_class() missing 1 required positional argument: 'self'"
     ]
    }
   ],
   "source": [
    "a.wmc = what_is_my_class\n",
    "print(a.wmc)\n",
    "print(a.wmc())"
   ]
  },
  {
   "cell_type": "code",
   "execution_count": 71,
   "metadata": {},
   "outputs": [
    {
     "name": "stdout",
     "output_type": "stream",
     "text": [
      "<bound method what_is_my_class of <__main__.A object at 0x7f10f0086e10>>\n",
      "<class '__main__.A'>\n"
     ]
    }
   ],
   "source": [
    "a.wmc = what_is_my_class.__get__(a, A)\n",
    "print(a.wmc)\n",
    "print(a.wmc())"
   ]
  },
  {
   "cell_type": "markdown",
   "metadata": {},
   "source": [
    "## type()\n",
    "- function: returns the type of the argument\n",
    "- it's a type too, the root type of the classes/types (cause they are actually types)"
   ]
  },
  {
   "cell_type": "code",
   "execution_count": 74,
   "metadata": {},
   "outputs": [
    {
     "name": "stdout",
     "output_type": "stream",
     "text": [
      "<class 'type'>\n",
      "<class 'type'>\n",
      "<class 'type'>\n"
     ]
    }
   ],
   "source": [
    "print(type(object))\n",
    "print(type(type(42)))\n",
    "print(type(type))"
   ]
  },
  {
   "cell_type": "markdown",
   "metadata": {},
   "source": [
    "- **AND** it can create new classes runtime"
   ]
  },
  {
   "cell_type": "markdown",
   "metadata": {},
   "source": [
    "### Metaprograming"
   ]
  },
  {
   "cell_type": "code",
   "execution_count": 77,
   "metadata": {},
   "outputs": [
    {
     "name": "stdout",
     "output_type": "stream",
     "text": [
      "new instance created\n",
      "foo: foo\n",
      "PI: 3.14\n"
     ]
    }
   ],
   "source": [
    "def constr(self):\n",
    "    print(\"new instance created\")\n",
    "    self.foo = \"foo\"\n",
    "    \n",
    "def method(self):\n",
    "    print(\"foo:\", self.foo)\n",
    "    print(\"PI:\", self.PI)\n",
    "\n",
    "# creating a new class = a simple function call\n",
    "MyClass = type(\n",
    "    \"MyClass\",              # classname\n",
    "    (dict, object),         # baseclasses\n",
    "    {                       # __dict__\n",
    "        'PI': 3.14,\n",
    "        'method': method,\n",
    "        '__init__': constr\n",
    "    }\n",
    ")\n",
    "\n",
    "myinstance = MyClass()\n",
    "myinstance.method()"
   ]
  },
  {
   "cell_type": "markdown",
   "metadata": {},
   "source": [
    "### `__metaclass__`\n",
    "When defined for a class, it is used instead of `type` at class generation"
   ]
  },
  {
   "cell_type": "code",
   "execution_count": 83,
   "metadata": {},
   "outputs": [
    {
     "name": "stdout",
     "output_type": "stream",
     "text": [
      "metaclass was here\n"
     ]
    }
   ],
   "source": [
    "class mymeta(type):\n",
    "    def __new__(mcs, name, bases, dict):\n",
    "        dict['myprop'] = 'metaclass was here'\n",
    "        return super(mymeta, mcs).__new__(mcs, name, bases, dict)\n",
    "\n",
    "class MC(metaclass = mymeta):\n",
    "    pass\n",
    "    \n",
    "mc = MC()\n",
    "print(mc.myprop)"
   ]
  },
  {
   "cell_type": "markdown",
   "metadata": {},
   "source": [
    "You can do **anything** here, like type checking based on docstrings or annotations, decorating all the methods with caching/logging capabilities, ..."
   ]
  },
  {
   "cell_type": "markdown",
   "metadata": {},
   "source": [
    "## Thank you!"
   ]
  },
  {
   "cell_type": "code",
   "execution_count": null,
   "metadata": {
    "collapsed": true
   },
   "outputs": [],
   "source": []
  }
 ],
 "metadata": {
  "kernelspec": {
   "display_name": "Python 3",
   "language": "python",
   "name": "python3"
  },
  "language_info": {
   "codemirror_mode": {
    "name": "ipython",
    "version": 3
   },
   "file_extension": ".py",
   "mimetype": "text/x-python",
   "name": "python",
   "nbconvert_exporter": "python",
   "pygments_lexer": "ipython3",
   "version": "3.6.0"
  }
 },
 "nbformat": 4,
 "nbformat_minor": 2
}
